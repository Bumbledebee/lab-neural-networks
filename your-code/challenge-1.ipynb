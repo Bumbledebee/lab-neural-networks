{
 "cells": [
  {
   "cell_type": "markdown",
   "metadata": {},
   "source": [
    "# Challenge 1 - Tic Tac Toe\n",
    "\n",
    "In this lab you will perform deep learning analysis on a dataset of playing [Tic Tac Toe](https://en.wikipedia.org/wiki/Tic-tac-toe).\n",
    "\n",
    "There are 9 grids in Tic Tac Toe that are coded as the following picture shows:\n",
    "\n",
    "![Tic Tac Toe Grids](tttboard.jpg)\n",
    "\n",
    "In the first 9 columns of the dataset you can find which marks (`x` or `o`) exist in the grids. If there is no mark in a certain grid, it is labeled as `b`. The last column is `class` which tells you whether Player X (who always moves first in Tic Tac Toe) wins in this configuration. Note that when `class` has the value `False`, it means either Player O wins the game or it ends up as a draw."
   ]
  },
  {
   "cell_type": "markdown",
   "metadata": {},
   "source": [
    "Follow the steps suggested below to conduct a neural network analysis using Tensorflow and Keras. You will build a deep learning model to predict whether Player X wins the game or not.\n",
    "\n",
    "## Step 1: Data Engineering\n",
    "\n",
    "This dataset is almost in the ready-to-use state so you do not need to worry about missing values and so on. Still, some simple data engineering is needed.\n",
    "\n",
    "1. Read `tic-tac-toe.csv` into a dataframe.\n",
    "1. Inspect the dataset. Determine if the dataset is reliable by eyeballing the data.\n",
    "1. Convert the categorical values to numeric in all columns.\n",
    "1. Separate the inputs and output.\n",
    "1. Normalize the input data."
   ]
  },
  {
   "cell_type": "code",
   "execution_count": 1,
   "metadata": {},
   "outputs": [
    {
     "name": "stderr",
     "output_type": "stream",
     "text": [
      "2025-03-23 20:33:52.514702: I tensorflow/core/platform/cpu_feature_guard.cc:182] This TensorFlow binary is optimized to use available CPU instructions in performance-critical operations.\n",
      "To enable the following instructions: SSE4.1 SSE4.2 AVX AVX2 AVX512F AVX512_VNNI FMA, in other operations, rebuild TensorFlow with the appropriate compiler flags.\n"
     ]
    }
   ],
   "source": [
    "# basic libraries\n",
    "import pandas as pd\n",
    "import numpy as np\n",
    "import tensorflow as tf\n",
    "from tensorflow import keras\n",
    "from tensorflow.keras.models import Sequential\n",
    "from tensorflow.keras.layers import Dense\n",
    "from sklearn.preprocessing import StandardScaler\n",
    "from sklearn.model_selection import train_test_split"
   ]
  },
  {
   "cell_type": "code",
   "execution_count": 2,
   "metadata": {},
   "outputs": [],
   "source": [
    "file_path = \"tic-tac-toe.csv\"\n",
    "data = pd.read_csv(file_path)\n",
    "df = data.copy()\n"
   ]
  },
  {
   "cell_type": "code",
   "execution_count": 3,
   "metadata": {},
   "outputs": [],
   "source": [
    "# convert types\n",
    "target = df[\"class\"].astype(int)\n",
    "new = df.drop(\"class\", axis=1)\n",
    "# Map categorical values to numbers\n",
    "mapping = {'x': 1, 'o': -1, 'b': 0}\n",
    "xob = new.applymap(lambda mark: mapping[mark]) \n",
    "df = pd.concat([xob, target], axis=1)"
   ]
  },
  {
   "cell_type": "code",
   "execution_count": 4,
   "metadata": {},
   "outputs": [],
   "source": [
    "y = df[\"class\"] #separate output\n",
    "X = df.drop('class', axis=1)"
   ]
  },
  {
   "cell_type": "code",
   "execution_count": 5,
   "metadata": {},
   "outputs": [],
   "source": [
    "#normalise the input data\n",
    "scaler = StandardScaler()\n",
    "X_normalized = scaler.fit_transform(X)"
   ]
  },
  {
   "cell_type": "markdown",
   "metadata": {},
   "source": [
    "## Step 2: Build Neural Network\n",
    "\n",
    "To build the neural network, you can refer to your own codes you wrote while following the [Deep Learning with Python, TensorFlow, and Keras tutorial](https://www.youtube.com/watch?v=wQ8BIBpya2k) in the lesson. It's pretty similar to what you will be doing in this lab.\n",
    "\n",
    "1. Split the training and test data.\n",
    "1. Create a `Sequential` model.\n",
    "1. Add several layers to your model. Make sure you use ReLU as the activation function for the middle layers. Use Softmax for the output layer because each output has a single lable and all the label probabilities add up to 1.\n",
    "1. Compile the model using `adam` as the optimizer and `sparse_categorical_crossentropy` as the loss function. For metrics, use `accuracy` for now.\n",
    "1. Fit the training data.\n",
    "1. Evaluate your neural network model with the test data.\n",
    "1. Save your model as `tic-tac-toe.model`."
   ]
  },
  {
   "cell_type": "code",
   "execution_count": 6,
   "metadata": {},
   "outputs": [],
   "source": [
    "# split the training and test data\n",
    "X_train, X_test, y_train, y_test = train_test_split(X_normalized, y, test_size=0.3, random_state=42 )"
   ]
  },
  {
   "cell_type": "code",
   "execution_count": 7,
   "metadata": {},
   "outputs": [],
   "source": [
    "# create a sequential model\n",
    "model = Sequential()"
   ]
  },
  {
   "cell_type": "code",
   "execution_count": 8,
   "metadata": {},
   "outputs": [],
   "source": [
    "# adding several layers\n",
    "model.add(Dense(9, activation='relu', input_shape = (9,)))  # Input layer\n",
    "model.add(Dense(16, activation='relu'))   # Hidden layer\n",
    "model.add(Dense(32, activation='relu'))   # Hidden layer\n",
    "model.add(Dense(2, activation='softmax'))  # Output layer for classification"
   ]
  },
  {
   "cell_type": "code",
   "execution_count": 9,
   "metadata": {},
   "outputs": [],
   "source": [
    "# compiling the model\n",
    "model.compile(optimizer='adam', loss='sparse_categorical_crossentropy', metrics=['accuracy'])"
   ]
  },
  {
   "cell_type": "code",
   "execution_count": 10,
   "metadata": {},
   "outputs": [
    {
     "name": "stdout",
     "output_type": "stream",
     "text": [
      "21/21 [==============================] - 1s 1ms/step - loss: 0.6683 - accuracy: 0.5687\n"
     ]
    },
    {
     "data": {
      "text/plain": [
       "<keras.callbacks.History at 0x7f7b90f33fa0>"
      ]
     },
     "execution_count": 10,
     "metadata": {},
     "output_type": "execute_result"
    }
   ],
   "source": [
    "model.fit(X_train, y_train)"
   ]
  },
  {
   "cell_type": "code",
   "execution_count": 11,
   "metadata": {},
   "outputs": [
    {
     "name": "stdout",
     "output_type": "stream",
     "text": [
      "9/9 [==============================] - 0s 1ms/step - loss: 0.6239 - accuracy: 0.6840\n"
     ]
    }
   ],
   "source": [
    "# evaluating the neural network model with test data\n",
    "val_loss, val_acc = model.evaluate(X_test, y_test)"
   ]
  },
  {
   "cell_type": "markdown",
   "metadata": {},
   "source": [
    "## Step 3: Make Predictions\n",
    "\n",
    "Now load your saved model and use it to make predictions on a few random rows in the test dataset. Check if the predictions are correct."
   ]
  },
  {
   "cell_type": "code",
   "execution_count": 12,
   "metadata": {},
   "outputs": [
    {
     "name": "stderr",
     "output_type": "stream",
     "text": [
      "WARNING:absl:Found untraced functions such as _update_step_xla while saving (showing 1 of 1). These functions will not be directly callable after loading.\n"
     ]
    },
    {
     "name": "stdout",
     "output_type": "stream",
     "text": [
      "INFO:tensorflow:Assets written to: tic_tac_toe/assets\n"
     ]
    },
    {
     "name": "stderr",
     "output_type": "stream",
     "text": [
      "INFO:tensorflow:Assets written to: tic_tac_toe/assets\n"
     ]
    }
   ],
   "source": [
    "model.save('tic_tac_toe')\n",
    "new_model = tf.keras.models.load_model('tic_tac_toe')\n"
   ]
  },
  {
   "cell_type": "code",
   "execution_count": 13,
   "metadata": {},
   "outputs": [
    {
     "name": "stdout",
     "output_type": "stream",
     "text": [
      "9/9 [==============================] - 0s 1ms/step\n"
     ]
    }
   ],
   "source": [
    "predictions = new_model.predict([X_test])"
   ]
  },
  {
   "cell_type": "code",
   "execution_count": 14,
   "metadata": {},
   "outputs": [],
   "source": [
    "n = 0\n",
    "predictions_list = []\n",
    "while n < len(predictions):\n",
    "    predictions_list.append(np.argmax(predictions[n]))\n",
    "    n += 1\n",
    "\n",
    "predictions_series = pd.Series(predictions_list)"
   ]
  },
  {
   "cell_type": "code",
   "execution_count": 15,
   "metadata": {},
   "outputs": [
    {
     "data": {
      "text/plain": [
       "match\n",
       "False    429\n",
       "True      69\n",
       "Name: count, dtype: int64"
      ]
     },
     "execution_count": 15,
     "metadata": {},
     "output_type": "execute_result"
    }
   ],
   "source": [
    "eval_df = pd.DataFrame({\"actual\":y_test,\"pred\":predictions_series})\n",
    "eval_df['match'] = eval_df['actual'].fillna(-1) == eval_df['pred']\n",
    "eval_df.match.value_counts()"
   ]
  },
  {
   "cell_type": "markdown",
   "metadata": {},
   "source": [
    "Predictions are very bad."
   ]
  },
  {
   "cell_type": "markdown",
   "metadata": {},
   "source": [
    "## Step 4: Improve Your Model\n",
    "\n",
    "Did your model achieve low loss (<0.1) and high accuracy (>0.95)? If not, try to improve your model.\n",
    "\n",
    "But how? There are so many things you can play with in Tensorflow and in the next challenge you'll learn about these things. But in this challenge, let's just do a few things to see if they will help.\n",
    "\n",
    "* Add more layers to your model. If the data are complex you need more layers. But don't use more layers than you need. If adding more layers does not improve the model performance you don't need additional layers.\n",
    "* Adjust the learning rate when you compile the model. This means you will create a custom `tf.keras.optimizers.Adam` instance where you specify the learning rate you want. Then pass the instance to `model.compile` as the optimizer.\n",
    "    * `tf.keras.optimizers.Adam` [reference](https://www.tensorflow.org/api_docs/python/tf/keras/optimizers/Adam).\n",
    "    * Don't worry if you don't understand what the learning rate does. You'll learn about it in the next challenge.\n",
    "* Adjust the number of epochs when you fit the training data to the model. Your model performance continues to improve as you train more epochs. But eventually it will reach the ceiling and the performance will stay the same."
   ]
  },
  {
   "cell_type": "markdown",
   "metadata": {},
   "source": [
    "### Try different amounts of layers"
   ]
  },
  {
   "cell_type": "code",
   "execution_count": 16,
   "metadata": {},
   "outputs": [
    {
     "name": "stdout",
     "output_type": "stream",
     "text": [
      "21/21 [==============================] - 1s 2ms/step - loss: 0.6674 - accuracy: 0.6284\n",
      "9/9 [==============================] - 0s 1ms/step - loss: 0.6432 - accuracy: 0.6701\n"
     ]
    }
   ],
   "source": [
    "# more layers\n",
    "model2 = Sequential()\n",
    "# Add layers one by one\n",
    "model2.add(Dense(9, activation='relu', input_shape = (9,)))  # Input layer\n",
    "model2.add(Dense(16, activation='relu'))   # Hidden layer\n",
    "model2.add(Dense(32, activation='relu'))   # Hidden layer\n",
    "model2.add(Dense(32, activation='relu'))   # Hidden layer\n",
    "model2.add(Dense(32, activation='relu'))   # Hidden layer\n",
    "model2.add(Dense(32, activation='relu'))   # Hidden layer\n",
    "model2.add(Dense(32, activation='relu'))   # Hidden layer\n",
    "model2.add(Dense(2, activation='softmax'))  # Output layer for classification\n",
    "# compiling the model\n",
    "model2.compile(optimizer='adam', loss='sparse_categorical_crossentropy', metrics=['accuracy'])\n",
    "model2.fit(X_train, y_train)\n",
    "# evaluating the neural network model with test data\n",
    "val_loss2, val_acc2 = model2.evaluate(X_test, y_test)"
   ]
  },
  {
   "cell_type": "markdown",
   "metadata": {},
   "source": [
    "### Custom Adam with updated learning rate"
   ]
  },
  {
   "cell_type": "code",
   "execution_count": 17,
   "metadata": {},
   "outputs": [
    {
     "name": "stdout",
     "output_type": "stream",
     "text": [
      "21/21 [==============================] - 1s 1ms/step - loss: 0.6361 - accuracy: 0.6313\n",
      "9/9 [==============================] - 0s 1ms/step - loss: 0.5684 - accuracy: 0.6736\n"
     ]
    }
   ],
   "source": [
    "# adjust learning rate\n",
    "model4 = Sequential()\n",
    "# Add layers one by one\n",
    "model4.add(Dense(9, activation='relu', input_shape = (9,)))  # Input layer\n",
    "model4.add(Dense(16, activation='relu'))   # Hidden layer\n",
    "model4.add(Dense(32, activation='relu'))   # Hidden layer\n",
    "model4.add(Dense(32, activation='relu'))   # Hidden layer\n",
    "model4.add(Dense(32, activation='relu'))   # Hidden layer\n",
    "model4.add(Dense(32, activation='relu'))   # Hidden layer\n",
    "model4.add(Dense(32, activation='relu'))   # Hidden layer\n",
    "model4.add(Dense(2, activation='softmax'))  # Output layer for classification\n",
    "# custom adam\n",
    "adam4 = tf.keras.optimizers.Adam(\n",
    "    learning_rate=0.009,\n",
    ")\n",
    "# compiling the model\n",
    "model4.compile(optimizer=adam4, loss='sparse_categorical_crossentropy', metrics=['accuracy'])\n",
    "model4.fit(X_train, y_train)\n",
    "# evaluating the neural network model with test data\n",
    "val_loss4, val_acc4 = model4.evaluate(X_test, y_test)"
   ]
  },
  {
   "cell_type": "markdown",
   "metadata": {},
   "source": [
    "### Adjust Epoch"
   ]
  },
  {
   "cell_type": "code",
   "execution_count": 18,
   "metadata": {},
   "outputs": [
    {
     "name": "stdout",
     "output_type": "stream",
     "text": [
      "Epoch 1/10\n",
      "21/21 [==============================] - 1s 2ms/step - loss: 0.6288 - accuracy: 0.6358\n",
      "Epoch 2/10\n",
      "21/21 [==============================] - 0s 1ms/step - loss: 0.5618 - accuracy: 0.6910\n",
      "Epoch 3/10\n",
      "21/21 [==============================] - 0s 1ms/step - loss: 0.5006 - accuracy: 0.7343\n",
      "Epoch 4/10\n",
      "21/21 [==============================] - 0s 1ms/step - loss: 0.4569 - accuracy: 0.7955\n",
      "Epoch 5/10\n",
      "21/21 [==============================] - 0s 1ms/step - loss: 0.3628 - accuracy: 0.8507\n",
      "Epoch 6/10\n",
      "21/21 [==============================] - 0s 1ms/step - loss: 0.2929 - accuracy: 0.8821\n",
      "Epoch 7/10\n",
      "21/21 [==============================] - 0s 1ms/step - loss: 0.2232 - accuracy: 0.9015\n",
      "Epoch 8/10\n",
      "21/21 [==============================] - 0s 1ms/step - loss: 0.1802 - accuracy: 0.9328\n",
      "Epoch 9/10\n",
      "21/21 [==============================] - 0s 1ms/step - loss: 0.1448 - accuracy: 0.9537\n",
      "Epoch 10/10\n",
      "21/21 [==============================] - 0s 1ms/step - loss: 0.1215 - accuracy: 0.9567\n",
      "9/9 [==============================] - 0s 1ms/step - loss: 0.1077 - accuracy: 0.9618\n"
     ]
    }
   ],
   "source": [
    "# adust the number of epoch when you fit the training data to the model\n",
    "model5 = Sequential()\n",
    "# Add layers one by one\n",
    "model5.add(Dense(9, activation='relu', input_shape = (9,)))  # Input layer\n",
    "model5.add(Dense(16, activation='relu'))   # Hidden layer\n",
    "model5.add(Dense(32, activation='relu'))   # Hidden layer\n",
    "model5.add(Dense(32, activation='relu'))   # Hidden layer\n",
    "model5.add(Dense(32, activation='relu'))   # Hidden layer\n",
    "model5.add(Dense(32, activation='relu'))   # Hidden layer\n",
    "model5.add(Dense(32, activation='relu'))   # Hidden layer\n",
    "model5.add(Dense(2, activation='softmax'))  # Output layer for classification\n",
    "# custom adam\n",
    "adam4 = tf.keras.optimizers.Adam(\n",
    "    learning_rate=0.009,\n",
    ")\n",
    "# compiling the model\n",
    "model5.compile(optimizer=adam4, loss='sparse_categorical_crossentropy', metrics=['accuracy'])\n",
    "model5.fit(X_train, y_train, epochs=10)\n",
    "# evaluating the neural network model with test data\n",
    "val_loss5, val_acc5 = model5.evaluate(X_test, y_test)"
   ]
  },
  {
   "cell_type": "markdown",
   "metadata": {},
   "source": [
    "**Which approach(es) did you find helpful to improve your model performance?**"
   ]
  },
  {
   "cell_type": "markdown",
   "metadata": {},
   "source": [
    "I found adjusting epochs made the biggest jump, but adjusting learning rate was also very helpful. The lowest increase I got by adjust the layers."
   ]
  }
 ],
 "metadata": {
  "kernelspec": {
   "display_name": "debora",
   "language": "python",
   "name": "python3"
  },
  "language_info": {
   "codemirror_mode": {
    "name": "ipython",
    "version": 3
   },
   "file_extension": ".py",
   "mimetype": "text/x-python",
   "name": "python",
   "nbconvert_exporter": "python",
   "pygments_lexer": "ipython3",
   "version": "3.8.18"
  }
 },
 "nbformat": 4,
 "nbformat_minor": 2
}
